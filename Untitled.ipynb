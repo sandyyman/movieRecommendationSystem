{
 "cells": [
  {
   "cell_type": "code",
   "execution_count": null,
   "id": "283a8138-7aeb-4cfa-947d-836a27e7f085",
   "metadata": {},
   "outputs": [],
   "source": [
    "#Streamlit turns data scripts into shareable web apps in minutes"
   ]
  },
  {
   "cell_type": "code",
   "execution_count": 1,
   "id": "40f7e7c7-efb9-427b-b64f-24d64265dc5a",
   "metadata": {},
   "outputs": [],
   "source": [
    "import streamlit as st\n",
    "import pickle\n",
    "import pandas as pd"
   ]
  },
  {
   "cell_type": "code",
   "execution_count": 8,
   "id": "6d91fb0f-ef7b-4c89-b6e7-eae62b3de0eb",
   "metadata": {},
   "outputs": [],
   "source": [
    "def recommend(movie):\n",
    "    movie_index=movies[new_df['title']==movie].index[0]\n",
    "    distances=similarity[movie_index]\n",
    "    movie_list=sorted(list(enumerate(distances)),reverse=True,key=lambda x:x[1])[1:6]\n",
    "\n",
    "    recommended_movies=[]\n",
    "    \n",
    "    for i in movie_list:\n",
    "        recommended_movies.append(movies.iloc[i[0]].title)\n",
    "    return recommended_movies\n",
    "\n",
    "movies_dict=pickle.load(open('movies_dict.pkl','rb'))\n",
    "movies=pd.DataFrame(movies_dict)\n",
    "\n",
    "similarity=pickle.load(open('similarity.pkl','rb'))\n",
    "st.title('MOVIE RECOMMENDER SYSTEM')\n",
    "\n",
    "option=st.selectbox(\"Select your Movie:\",movies['title'].values)\n",
    "if st.button(\"Recommend\"):\n",
    "    recommendations=recommend(option)\n",
    "    for i in recommendations:\n",
    "        st.write(1)\n"
   ]
  }
 ],
 "metadata": {
  "kernelspec": {
   "display_name": "Python 3 (ipykernel)",
   "language": "python",
   "name": "python3"
  },
  "language_info": {
   "codemirror_mode": {
    "name": "ipython",
    "version": 3
   },
   "file_extension": ".py",
   "mimetype": "text/x-python",
   "name": "python",
   "nbconvert_exporter": "python",
   "pygments_lexer": "ipython3",
   "version": "3.11.7"
  }
 },
 "nbformat": 4,
 "nbformat_minor": 5
}
